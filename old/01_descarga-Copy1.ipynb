{
 "cells": [
  {
   "cell_type": "code",
   "execution_count": 1,
   "id": "a5b6a0ac-e766-4d1a-8976-7f38ec851437",
   "metadata": {
    "execution": {
     "iopub.execute_input": "2024-06-01T18:08:34.518986Z",
     "iopub.status.busy": "2024-06-01T18:08:34.518869Z",
     "iopub.status.idle": "2024-06-01T18:08:36.597194Z",
     "shell.execute_reply": "2024-06-01T18:08:36.596295Z",
     "shell.execute_reply.started": "2024-06-01T18:08:34.518973Z"
    }
   },
   "outputs": [
    {
     "name": "stdout",
     "output_type": "stream",
     "text": [
      "Automatic pdb calling has been turned OFF\n"
     ]
    }
   ],
   "source": [
    "%pdb off\n",
    "import pandas as pd\n",
    "import lightkurve as lk\n",
    "import numpy as np\n",
    "import pywt\n",
    "import pickle\n",
    "import os\n",
    "import matplotlib.pyplot as plt\n",
    "from LCWavelet import *\n",
    "from binning import bin_and_aggregate\n",
    "from tqdm import tqdm\n",
    "\n",
    "df_path = 'cumulative_2022.09.30_09.06.43.csv'\n",
    "df = pd.read_csv(df_path ,skiprows=144)\n",
    "\n",
    "\n",
    "def process_light_curve(row, mission=\"Kepler\", download_dir=\"data2/\",\n",
    "                        binning_parameters=None,\n",
    "                        sigma=20, sigma_upper=4,\n",
    "                        wavelet_window=None,\n",
    "                        wavelet_family=None, levels=None, cut_border_percent=0.1,\n",
    "                        plot = False, plot_comparative=False,save=False, path=\"\"):\n",
    "\n",
    "    kic = f'KIC {row.kepid}'\n",
    "    lc_search = lk.search_lightcurve(kic, mission=mission)\n",
    "    light_curve_collection = lc_search.download_all(download_dir=download_dir)\n",
    "\n",
    "    # lc_collection = lk.LightCurveCollection([lc.remove_outliers(sigma=sigma, sigma_upper=sigma_upper) for lc in light_curve_collection])\n",
    "    lc_collection = lk.LightCurveCollection([lc for lc in light_curve_collection])\n",
    "\n",
    "    lc_ro = lc_collection.stitch()\n",
    "\n",
    "    lc_nonans = lc_ro.remove_nans()\n",
    "    \n",
    "    lc_fold = lc_nonans.fold(period = row.koi_period,epoch_time = row.koi_time0bk)\n",
    "    lc_odd = lc_fold[lc_fold.odd_mask]\n",
    "    lc_even = lc_fold[lc_fold.even_mask]\n",
    "    \n",
    "    if binning_parameters is not None and \"lambda\" in binning_parameters.keys() and \"delta\" in binning_parameters.keys():\n",
    "        lmb = binning_parameters[\"lambda\"]\n",
    "        delta = binning_parameters[\"delta\"]\n",
    "        lc_odd =  bin_and_aggregate(np.arange(lc_odd), lc_odd)\n",
    "        lc_odd =  bin_and_aggregate(np.arange(lc_odd), lc_odd)\n",
    "        pass\n",
    "\n",
    "    if wavelet_window is not None:\n",
    "        print('Aplicando ventana ...')\n",
    "        lc_impar = cut_wavelet(lc_odd, wavelet_window)\n",
    "        lc_par = cut_wavelet(lc_even, wavelet_window)\n",
    "    else:\n",
    "        lc_impar = lc_odd\n",
    "        lc_par = lc_even\n",
    "\n",
    "    # para quitar oscilaciones en los bordes (quizás mejor no guardar los datos con esto quitado)\n",
    "    lc_w_par = apply_wavelet(lc_par, wavelet_family, levels, cut_border_percent=cut_border_percent)\n",
    "    lc_w_impar = apply_wavelet(lc_impar, wavelet_family, levels, cut_border_percent=cut_border_percent)\n",
    "\n",
    "    headers = {\n",
    "        \"period\": row.koi_period,\n",
    "        \"koi_period_err1\": row.koi_period_err1,\n",
    "        \"koi_period_err2\": row.koi_period_err2,\n",
    "        \"depth\": row.koi_depth,\n",
    "        \"depth_err1\": row.koi_depth_err1,\n",
    "        \"depth_err2\": row.koi_depth_err2,\n",
    "        \"duration\": row.koi_duration,\n",
    "        \"duration_err1\": row.koi_duration_err1,\n",
    "        \"duration_err2\": row.koi_duration_err2,\n",
    "        \"steff\": row.koi_steff,\n",
    "        \"steff_err1\": row.koi_steff_err1,\n",
    "        \"steff_err2\": row.koi_steff_err2,\n",
    "        \"impact\": row.koi_impact,\n",
    "        \"impact_err1\": row.koi_impact_err1,\n",
    "        \"impact_err2\": row.koi_impact_err2,\n",
    "        \"class\": row.koi_disposition,\n",
    "        \"wavelet_family\":wavelet_family,\n",
    "        \"levels\":levels,\n",
    "        \"window\":wavelet_window,\n",
    "        \"border_cut\":cut_border_percent,\n",
    "        \"Kepler_name\":row.kepoi_name\n",
    "    }\n",
    "    lc_wavelet_collection = LightCurveWaveletCollection(row.kepid, headers, lc_w_par, lc_w_impar)\n",
    "\n",
    "    if(plot):\n",
    "        print('graficando wavelets obtenidas...')\n",
    "        lc_w_par.plot()\n",
    "        lc_w_inpar.plot()\n",
    "    if(plot_comparative):\n",
    "        print('graficando wavelets obtenidas...')\n",
    "        lc_wavelet_collection.plot_comparative()\n",
    "    if(save):\n",
    "        # print('guardando wavelets obtenidas...')\n",
    "        lc_wavelet_collection.save(path)\n",
    "    return lc_wavelet_collection\n",
    "\n",
    "# for _, row in tqdm(df.iterrows(), total=len(df)):\n",
    "#     process_light_curve(row, levels=[1, 2, 3, 4], wavelet_family=\"sym5\", plot=False, plot_comparative=False, save=True, path=\"all_data_2024-06-01/\"\n",
    "#                        binning_parameters={\"delta\": , \"lambda\": })\n",
    "\n",
    "# process_light_curve"
   ]
  },
  {
   "cell_type": "code",
   "execution_count": 2,
   "id": "67fc551f",
   "metadata": {
    "execution": {
     "iopub.execute_input": "2024-06-01T18:08:36.598409Z",
     "iopub.status.busy": "2024-06-01T18:08:36.598122Z",
     "iopub.status.idle": "2024-06-01T18:08:36.605540Z",
     "shell.execute_reply": "2024-06-01T18:08:36.605132Z",
     "shell.execute_reply.started": "2024-06-01T18:08:36.598387Z"
    }
   },
   "outputs": [
    {
     "data": {
      "text/plain": [
       "array([0, 1, 2, 3])"
      ]
     },
     "execution_count": 2,
     "metadata": {},
     "output_type": "execute_result"
    }
   ],
   "source": [
    "np.arange(len([1, 2, 3, 4]))"
   ]
  },
  {
   "cell_type": "code",
   "execution_count": null,
   "id": "ebd428b9-c4d8-4093-a287-036e3d6fbe8b",
   "metadata": {
    "execution": {
     "iopub.execute_input": "2024-06-01T18:08:36.606515Z",
     "iopub.status.busy": "2024-06-01T18:08:36.606375Z",
     "iopub.status.idle": "2024-06-01T18:21:10.137511Z",
     "shell.execute_reply": "2024-06-01T18:21:10.136517Z",
     "shell.execute_reply.started": "2024-06-01T18:08:36.606502Z"
    },
    "scrolled": true
   },
   "outputs": [
    {
     "data": {
      "application/vnd.jupyter.widget-view+json": {
       "model_id": "baed962377884ca09798cdb11d558e7c",
       "version_major": 2,
       "version_minor": 0
      },
      "text/plain": [
       "DONE:   0%|          | 0/9564 [00:00<?, ?it/s]"
      ]
     },
     "metadata": {},
     "output_type": "display_data"
    }
   ],
   "source": [
    "import os\n",
    "kep_id = list('KIC ' + df.kepid.astype(str))\n",
    "import traceback\n",
    "def download_one(kic):\n",
    "    try:\n",
    "        lc_search = lk.search_lightcurve(kic, mission=\"Kepler\")\n",
    "        light_curve_collection = lc_search.download_all(download_dir=\"data3/\")\n",
    "    except Exception:\n",
    "        print(traceback.format_exc())\n",
    "    return None\n",
    "\n",
    "\n",
    "# for row in tqdm(kep_id):\n",
    "#     download_one(row)\n",
    " \n",
    "\n",
    "# from prpl import prpl\n",
    "# from atpbar import flushing\n",
    "# prpl(target_list=kep_id, target_function=download_one, list_sep=16, timer=True)\n",
    "from concurrent import futures\n",
    "from parallelbar import progress_map\n",
    "# with flushing(), futures.ThreadPoolExecutor(max_workers=32) as executor:\n",
    "#     res = executor.map(download_one, kep_id)\n",
    "if __name__ == \"__main__\":\n",
    "    progress_map(download_one, kep_id, n_cpu=8)\n",
    "\n",
    "# pd.concat([lc.table.to_pandas() for lc in lc_search]).to_csv(\"table.csv\", index=None)\n",
    "# lc_search[0].table.to_pandas()\n",
    "# light_curve_collection"
   ]
  },
  {
   "cell_type": "code",
   "execution_count": null,
   "id": "a5ebc095-10d3-4e28-b6e4-c9257a85e9aa",
   "metadata": {},
   "outputs": [],
   "source": []
  }
 ],
 "metadata": {
  "jupytext": {
   "formats": "ipynb,py:percent"
  },
  "kernelspec": {
   "display_name": ".venv",
   "language": "python",
   "name": "python3"
  },
  "language_info": {
   "codemirror_mode": {
    "name": "ipython",
    "version": 3
   },
   "file_extension": ".py",
   "mimetype": "text/x-python",
   "name": "python",
   "nbconvert_exporter": "python",
   "pygments_lexer": "ipython3",
   "version": "3.10.11"
  }
 },
 "nbformat": 4,
 "nbformat_minor": 5
}
