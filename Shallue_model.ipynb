{
 "cells": [
  {
   "cell_type": "markdown",
   "metadata": {},
   "source": [
    "## Librerias "
   ]
  },
  {
   "cell_type": "code",
   "execution_count": 1,
   "metadata": {},
   "outputs": [],
   "source": [
    "import torch\n",
    "import torch.nn as nn\n",
    "import torch.nn.functional as F\n",
    "from sklearn.model_selection import train_test_split\n",
    "import numpy as np\n",
    "from lib.LCWavelet import *\n",
    "import os\n",
    "from tqdm import tqdm\n",
    "import matplotlib.pyplot as plt\n",
    "from torch.utils.data import DataLoader, Dataset\n",
    "from sklearn.metrics import accuracy_score, f1_score, precision_score, recall_score"
   ]
  },
  {
   "cell_type": "markdown",
   "metadata": {},
   "source": [
    "## Arquitectura del modelo"
   ]
  },
  {
   "cell_type": "code",
   "execution_count": 2,
   "metadata": {},
   "outputs": [],
   "source": [
    "class ShallueModel(nn.Module):\n",
    "    def __init__(self, global_size=2001, local_size=201, num_classes=2):\n",
    "        super(ShallueModel, self).__init__()\n",
    "        self.global_size = global_size\n",
    "        self.local_size = local_size\n",
    "        self.num_classes = num_classes\n",
    "        if num_classes == 1:\n",
    "            print(\"Binary classification, sigmoid activation will be used.\")\n",
    "        elif num_classes > 1:\n",
    "            print(\"Multi-class classification, softmax activation will be used.\")\n",
    "            \n",
    "        \n",
    "        self.conv_global_odd = nn.Sequential(\n",
    "            nn.Conv1d(1, 16, 5),\n",
    "            nn.ReLU(),\n",
    "            nn.Conv1d(16, 16, 5),\n",
    "            nn.ReLU(),\n",
    "            nn.MaxPool1d(kernel_size=5, stride=2),\n",
    "            nn.Conv1d(16, 32, 5),\n",
    "            nn.ReLU(),\n",
    "            nn.Conv1d(32, 32, 5),\n",
    "            nn.ReLU(),\n",
    "            nn.MaxPool1d(kernel_size=5, stride=2),\n",
    "            nn.Conv1d(32, 64, 5),\n",
    "            nn.ReLU(),\n",
    "            nn.Conv1d(64, 64, 5),\n",
    "            nn.ReLU(),\n",
    "            nn.MaxPool1d(kernel_size=5, stride=2),\n",
    "            nn.Conv1d(64, 128, 5),\n",
    "            nn.ReLU(),\n",
    "            nn.Conv1d(128, 128, 5),\n",
    "            nn.ReLU(),\n",
    "            nn.MaxPool1d(kernel_size=5, stride=2),\n",
    "            nn.Conv1d(128, 256, 5),\n",
    "            nn.ReLU(),\n",
    "            nn.Conv1d(256, 256, 5),\n",
    "            nn.ReLU(),\n",
    "            nn.MaxPool1d(kernel_size=5, stride=2),\n",
    "        )\n",
    "        \n",
    "        self.conv_global_even = nn.Sequential(\n",
    "            nn.Conv1d(1, 16, 5),\n",
    "            nn.ReLU(),\n",
    "            nn.Conv1d(16, 16, 5),\n",
    "            nn.ReLU(),\n",
    "            nn.MaxPool1d(kernel_size=5, stride=2),\n",
    "            nn.Conv1d(16, 32, 5),\n",
    "            nn.ReLU(),\n",
    "            nn.Conv1d(32, 32, 5),\n",
    "            nn.ReLU(),\n",
    "            nn.MaxPool1d(kernel_size=5, stride=2),\n",
    "            nn.Conv1d(32, 64, 5),\n",
    "            nn.ReLU(),\n",
    "            nn.Conv1d(64, 64, 5),\n",
    "            nn.ReLU(),\n",
    "            nn.MaxPool1d(kernel_size=5, stride=2),\n",
    "            nn.Conv1d(64, 128, 5),\n",
    "            nn.ReLU(),\n",
    "            nn.Conv1d(128, 128, 5),\n",
    "            nn.ReLU(),\n",
    "            nn.MaxPool1d(kernel_size=5, stride=2),\n",
    "            nn.Conv1d(128, 256, 5),\n",
    "            nn.ReLU(),\n",
    "            nn.Conv1d(256, 256, 5),\n",
    "            nn.ReLU(),\n",
    "            nn.MaxPool1d(kernel_size=5, stride=2),\n",
    "        )\n",
    "        \n",
    "        self.conv_local_odd = nn.Sequential(\n",
    "            nn.Conv1d(1, 16, 5),\n",
    "            nn.ReLU(),\n",
    "            nn.Conv1d(16, 16, 5),\n",
    "            nn.ReLU(),\n",
    "            nn.MaxPool1d(kernel_size=7, stride=2),\n",
    "            nn.Conv1d(16, 32, 5),\n",
    "            nn.ReLU(),\n",
    "            nn.Conv1d(32, 32, 5),\n",
    "            nn.ReLU(),\n",
    "            nn.MaxPool1d(kernel_size=7, stride=2),\n",
    "        )\n",
    "        \n",
    "        self.conv_local_even = nn.Sequential(\n",
    "            nn.Conv1d(1, 16, 5),\n",
    "            nn.ReLU(),\n",
    "            nn.Conv1d(16, 16, 5),\n",
    "            nn.ReLU(),\n",
    "            nn.MaxPool1d(kernel_size=7, stride=2),\n",
    "            nn.Conv1d(16, 32, 5),\n",
    "            nn.ReLU(),\n",
    "            nn.Conv1d(32, 32, 5),\n",
    "            nn.ReLU(),\n",
    "            nn.MaxPool1d(kernel_size=7, stride=2),\n",
    "        )\n",
    "        \n",
    "        # Calcular automáticamente el número de features resultantes de la concatenación\n",
    "        with torch.no_grad():\n",
    "            dummy_global = torch.zeros(1, 1, self.global_size)\n",
    "            dummy_local = torch.zeros(1, 1, self.local_size)\n",
    "            out_global_odd  = self.conv_global_odd(dummy_global)\n",
    "            out_global_even = self.conv_global_even(dummy_global)\n",
    "            out_local_odd   = self.conv_local_odd(dummy_local)\n",
    "            out_local_even  = self.conv_local_even(dummy_local)\n",
    "            \n",
    "            # Flatten cada salida y sumar sus dimensiones\n",
    "            num_features = out_global_odd.view(1, -1).size(1) + \\\n",
    "                           out_global_even.view(1, -1).size(1) + \\\n",
    "                           out_local_odd.view(1, -1).size(1) + \\\n",
    "                           out_local_even.view(1, -1).size(1)\n",
    "            \n",
    "        print(\"Número de features concatenados:\", num_features)\n",
    "        \n",
    "        self.fc = nn.Sequential(\n",
    "            nn.Linear(num_features, 512),\n",
    "            nn.ReLU(),\n",
    "            nn.Linear(512, 512),\n",
    "            nn.ReLU(),\n",
    "            nn.Linear(512, 512),\n",
    "            nn.ReLU(),\n",
    "            nn.Linear(512, num_classes)\n",
    "        )\n",
    "        \n",
    "    def forward(self, inputs):\n",
    "        global_odd = self.conv_global_odd(inputs[0])\n",
    "        global_even = self.conv_global_even(inputs[1])\n",
    "        local_odd = self.conv_local_odd(inputs[2])\n",
    "        local_even = self.conv_local_even(inputs[3])\n",
    "        \n",
    "        global_odd = global_odd.view(global_odd.size(0), -1)\n",
    "        global_even = global_even.view(global_even.size(0), -1)\n",
    "        local_odd = local_odd.view(local_odd.size(0), -1)\n",
    "        local_even = local_even.view(local_even.size(0), -1)\n",
    "        \n",
    "        # Concatenación de todas las ramas\n",
    "        x = torch.cat((global_odd, global_even, local_odd, local_even), dim=1)\n",
    "        x = self.fc(x)\n",
    "        if self.num_classes > 1:\n",
    "            return F.softmax(x, dim=1)\n",
    "        else:\n",
    "            return torch.sigmoid(x)\n",
    "    "
   ]
  },
  {
   "cell_type": "markdown",
   "metadata": {},
   "source": [
    "## Cargado de datos"
   ]
  },
  {
   "cell_type": "code",
   "execution_count": 3,
   "metadata": {},
   "outputs": [
    {
     "name": "stderr",
     "output_type": "stream",
     "text": [
      "Loading data: 100%|██████████| 9346/9346 [00:44<00:00, 209.92it/s]\n"
     ]
    }
   ],
   "source": [
    "def load_data(path, file_name):\n",
    "    lc = LightCurveWaveletGlobalLocalCollection.from_pickle(path + file_name)\n",
    "    try:\n",
    "        getattr(lc, 'levels')\n",
    "    except AttributeError:\n",
    "        lc.levels = [1, 2, 3, 4]\n",
    "    return lc\n",
    "        \n",
    "path='all_data/'\n",
    "files = os.listdir(path)\n",
    "kepler_files = [f for f in files if f.endswith('.pickle')]\n",
    "light_curves = []\n",
    "\n",
    "for file in tqdm(kepler_files, desc='Loading data'):\n",
    "    light_curves.append(load_data(path, file))"
   ]
  },
  {
   "cell_type": "markdown",
   "metadata": {},
   "source": [
    "### Separar entre los confirmados y candidatos"
   ]
  },
  {
   "cell_type": "code",
   "execution_count": 4,
   "metadata": {},
   "outputs": [
    {
     "name": "stdout",
     "output_type": "stream",
     "text": [
      "Número de candidatos: 2046\n",
      "Número de confirmados: 7300\n",
      "Clases: {'FALSE POSITIVE': 0, 'CONFIRMED': 1}\n"
     ]
    }
   ],
   "source": [
    "candidates = [lc for lc in light_curves if lc.headers['class'] == 'CANDIDATE']\n",
    "print(\"Número de candidatos:\", len(candidates))\n",
    "\n",
    "confirmed = [lc for lc in light_curves if lc.headers['class'] == 'CONFIRMED' or lc.headers['class'] == 'FALSE POSITIVE']\n",
    "print(\"Número de confirmados:\", len(confirmed))\n",
    "\n",
    "classes = [lc.headers['class'] for lc in confirmed]\n",
    "classes = set(classes)\n",
    "classes = {v: k for k, v in enumerate(classes)}\n",
    "print(\"Clases:\", classes)"
   ]
  },
  {
   "cell_type": "code",
   "execution_count": 5,
   "metadata": {},
   "outputs": [
    {
     "name": "stderr",
     "output_type": "stream",
     "text": [
      "Processing light curves: 100%|██████████| 7300/7300 [00:00<00:00, 97072.21it/s]"
     ]
    },
    {
     "name": "stdout",
     "output_type": "stream",
     "text": [
      "Número de datos: 7300\n",
      "Elementos de cada clase: {0: 4637, 1: 2663}\n"
     ]
    },
    {
     "name": "stderr",
     "output_type": "stream",
     "text": [
      "\n"
     ]
    }
   ],
   "source": [
    "global_odd = []\n",
    "global_even = []\n",
    "local_odd = []\n",
    "local_even = []\n",
    "labels = []\n",
    "\n",
    "for lc in tqdm(confirmed, desc='Processing light curves'):\n",
    "    global_odd.append(lc.pliegue_impar_global._light_curve.flux.value)\n",
    "    global_even.append(lc.pliegue_par_global._light_curve.flux.value)\n",
    "    local_odd.append(lc.pliegue_impar_local._light_curve.flux.value)\n",
    "    local_even.append(lc.pliegue_par_local._light_curve.flux.value)\n",
    "    # Convertir la clase a un número entero\n",
    "    labels.append(classes[lc.headers['class']])\n",
    "    \n",
    "print(\"Número de datos:\", len(global_odd))\n",
    "print('Elementos de cada clase:', {k: labels.count(k) for k in set(labels)})\n"
   ]
  },
  {
   "cell_type": "markdown",
   "metadata": {},
   "source": [
    "### Separar las muestras en train y test"
   ]
  },
  {
   "cell_type": "code",
   "execution_count": 6,
   "metadata": {},
   "outputs": [
    {
     "name": "stderr",
     "output_type": "stream",
     "text": [
      "Creating items: 100%|██████████| 7300/7300 [00:00<00:00, 1396825.69it/s]\n",
      "e:\\Diego\\Astrofisica\\TFM\\ExoPlanet-Detection\\.venv\\lib\\site-packages\\ipykernel_launcher.py:14: UserWarning: Creating a tensor from a list of numpy.ndarrays is extremely slow. Please consider converting the list to a single numpy.ndarray with numpy.array() before converting to a tensor. (Triggered internally at C:\\actions-runner\\_work\\pytorch\\pytorch\\builder\\windows\\pytorch\\torch\\csrc\\utils\\tensor_new.cpp:233.)\n",
      "  \n"
     ]
    },
    {
     "name": "stdout",
     "output_type": "stream",
     "text": [
      "Tamaño del conjunto de entrenamiento: 5110\n",
      "Tamaño del conjunto de prueba: 2190\n"
     ]
    }
   ],
   "source": [
    "items = []\n",
    "\n",
    "for i in tqdm(range(len(global_odd)), desc='Creating items'):\n",
    "    item = {\n",
    "        'global_odd': global_odd[i],\n",
    "        'global_even': global_even[i],\n",
    "        'local_odd': local_odd[i],\n",
    "        'local_even': local_even[i],\n",
    "        'label': labels[i]\n",
    "    }\n",
    "    items.append(item)\n",
    "\n",
    "train, test = train_test_split(items, test_size=0.3, random_state=42)\n",
    "train_global_odd = torch.tensor([item['global_odd'] for item in train])\n",
    "train_global_even = torch.tensor([item['global_even'] for item in train])\n",
    "train_local_odd = torch.tensor([item['local_odd'] for item in train])\n",
    "train_local_even = torch.tensor([item['local_even'] for item in train])\n",
    "train_labels = torch.tensor([item['label'] for item in train])\n",
    "\n",
    "test_global_odd = torch.tensor([item['global_odd'] for item in test])\n",
    "test_global_even = torch.tensor([item['global_even'] for item in test])\n",
    "test_local_odd = torch.tensor([item['local_odd'] for item in test])\n",
    "test_local_even = torch.tensor([item['local_even'] for item in test])\n",
    "test_labels = torch.tensor([item['label'] for item in test])\n",
    "\n",
    "train_dataset = torch.utils.data.TensorDataset(train_global_odd, train_global_even, train_local_odd, train_local_even, train_labels)\n",
    "test_dataset = torch.utils.data.TensorDataset(test_global_odd, test_global_even, test_local_odd, test_local_even, test_labels)\n",
    "\n",
    "print(\"Tamaño del conjunto de entrenamiento:\", len(train_dataset))\n",
    "print(\"Tamaño del conjunto de prueba:\", len(test_dataset))"
   ]
  },
  {
   "cell_type": "markdown",
   "metadata": {},
   "source": [
    "## Entrenar el modelo"
   ]
  },
  {
   "cell_type": "markdown",
   "metadata": {},
   "source": [
    "#### Definir device en caso de usar GPU o CPU"
   ]
  },
  {
   "cell_type": "code",
   "execution_count": 7,
   "metadata": {},
   "outputs": [
    {
     "name": "stdout",
     "output_type": "stream",
     "text": [
      "Dispositivo: privateuseone:0\n"
     ]
    }
   ],
   "source": [
    "try:\n",
    "    import torch_directml\n",
    "    if torch_directml.is_available():\n",
    "        device = torch_directml.device()\n",
    "    else:\n",
    "        device = torch.device(\"cuda\" if torch.cuda.is_available() else \"cpu\")\n",
    "    print(\"Dispositivo:\", device)\n",
    "except ImportError:\n",
    "    device = torch.device(\"cuda\" if torch.cuda.is_available() else \"cpu\")\n",
    "    print(\"Dispositivo:\", device)"
   ]
  },
  {
   "cell_type": "code",
   "execution_count": 8,
   "metadata": {},
   "outputs": [
    {
     "name": "stdout",
     "output_type": "stream",
     "text": [
      "Multi-class classification, softmax activation will be used.\n",
      "Número de features concatenados: 28672\n"
     ]
    }
   ],
   "source": [
    "batch_size = 64\n",
    "num_epochs = 10\n",
    "learning_rate = 0.0001\n",
    "n_classes = 2 # si pones 1 usa sigmoid, si pones >1 usa softmax\n",
    "if n_classes > 1:\n",
    "    loss_fn = nn.CrossEntropyLoss() # para clasificación multiclase\n",
    "else:\n",
    "    loss_fn = nn.BCELoss() # para clasificación binaria con sigmoid\n",
    "    \n",
    "model = ShallueModel(global_size=2001, local_size=201, num_classes=n_classes).to(device)\n",
    "if input(\"¿Quieres inicializar el modelo? (s/n): \").lower() == 's':  \n",
    "    try: \n",
    "        model.load_state_dict(torch.load('Shallue_model.pth'))\n",
    "        model.eval()\n",
    "    except:\n",
    "        print(\"No se pudo cargar el modelo. Se inicializa uno nuevo.\")\n",
    "\n",
    "\n",
    "optimizer = torch.optim.Adam(model.parameters(), lr=learning_rate, weight_decay=1e-5)\n",
    "\n",
    "train_loader = DataLoader(train_dataset, batch_size=batch_size, shuffle=True)\n",
    "test_loader = DataLoader(test_dataset, batch_size=batch_size, shuffle=False)"
   ]
  },
  {
   "cell_type": "code",
   "execution_count": 9,
   "metadata": {},
   "outputs": [],
   "source": [
    "def train_fn(model, train_loader, optimizer, loss_fn):\n",
    "    model.train()\n",
    "    train_size = len(train_loader.dataset)\n",
    "    n_batches = len(train_loader)\n",
    "    total_loss = 0.0\n",
    "    correct = 0\n",
    "    for batch, data in enumerate(tqdm(train_loader, desc='Training')):\n",
    "        global_odd, global_even, local_odd, local_even, labels = data\n",
    "        # check if any tensor is empty\n",
    "        if global_odd.numel() == 0 or global_even.numel() == 0 or local_odd.numel() == 0 or local_even.numel() == 0:\n",
    "            continue\n",
    "        # check if any tensor has nan\n",
    "        if torch.isnan(global_odd).any() or torch.isnan(global_even).any() or torch.isnan(local_odd).any() or torch.isnan(local_even).any():\n",
    "            continue\n",
    "        # Move data to device\n",
    "        global_odd = global_odd.to(device).unsqueeze(1).float()\n",
    "        global_even = global_even.to(device).unsqueeze(1).float()\n",
    "        local_odd = local_odd.to(device).unsqueeze(1).float()\n",
    "        local_even = local_even.to(device).unsqueeze(1).float()\n",
    "        labels = labels.to(device)\n",
    "        \n",
    "        optimizer.zero_grad()\n",
    "        # Forward propagation\n",
    "        outputs = model((global_odd, global_even, local_odd, local_even))\n",
    "        \n",
    "        if type(loss_fn) == nn.BCELoss:\n",
    "            # elimnar la dimensión extra de outputs\n",
    "            outputs = outputs.squeeze(1)\n",
    "            labels = labels.float()\n",
    "        # Compute loss and backpropagation\n",
    "        loss = loss_fn(outputs, labels)\n",
    "        loss.backward()\n",
    "        optimizer.step()\n",
    "        \n",
    "        total_loss += loss.item()\n",
    "        if type(loss_fn) == nn.BCELoss:\n",
    "            predicted = (outputs > 0.5).float()\n",
    "        else:\n",
    "            _, predicted = torch.max(outputs.data, 1)\n",
    "            \n",
    "        correct += (predicted == labels).sum().item()\n",
    "\n",
    "    accuracy = correct / train_size\n",
    "    train_loss = total_loss / n_batches\n",
    "        \n",
    "    return train_loss, accuracy\n",
    "\n",
    "\n",
    "def val_fn(model, test_loader, loss_fn):\n",
    "    model.eval()\n",
    "    test_size = len(test_loader.dataset)\n",
    "    n_batches = len(test_loader)\n",
    "    total_loss = 0.0\n",
    "    correct = 0\n",
    "    all_labels = []\n",
    "    all_predictions = []\n",
    "    \n",
    "    with torch.no_grad():\n",
    "        for batch, data in enumerate(tqdm(test_loader, desc='Validation')):\n",
    "            global_odd, global_even, local_odd, local_even, labels = data\n",
    "            # check if any tensor is empty\n",
    "            if global_odd.numel() == 0 or global_even.numel() == 0 or local_odd.numel() == 0 or local_even.numel() == 0:\n",
    "                continue\n",
    "            # check if any tensor has nan\n",
    "            if torch.isnan(global_odd).any() or torch.isnan(global_even).any() or torch.isnan(local_odd).any() or torch.isnan(local_even).any():\n",
    "                continue\n",
    "            \n",
    "            # Move data to device\n",
    "            global_odd = global_odd.to(device).unsqueeze(1).float()\n",
    "            global_even = global_even.to(device).unsqueeze(1).float()\n",
    "            local_odd = local_odd.to(device).unsqueeze(1).float()\n",
    "            local_even = local_even.to(device).unsqueeze(1).float()\n",
    "            labels = labels.to(device)\n",
    "            \n",
    "            outputs = model((global_odd, global_even, local_odd, local_even))\n",
    "            if type(loss_fn) == nn.BCELoss:\n",
    "            # elimnar la dimensión extra de outputs\n",
    "                outputs = outputs.squeeze(1)\n",
    "                labels = labels.float()\n",
    "                \n",
    "            loss = loss_fn(outputs, labels)\n",
    "            total_loss += loss.item()\n",
    "            \n",
    "            if type(loss_fn) == nn.BCELoss:\n",
    "                predicted = (outputs > 0.5).float()\n",
    "            else:\n",
    "                _, predicted = torch.max(outputs.data, 1)\n",
    "\n",
    "            correct += (predicted == labels).sum().item()\n",
    "            labels = labels.cpu().numpy()\n",
    "            predicted = predicted.cpu().numpy()\n",
    "            \n",
    "            all_labels.extend(labels)\n",
    "            all_predictions.extend(predicted)\n",
    "    \n",
    "    accuracy = correct / test_size\n",
    "    val_loss = total_loss / n_batches\n",
    "    \n",
    "    f1 = f1_score(all_labels, all_predictions, average='weighted')\n",
    "    precision = precision_score(all_labels, all_predictions, average='weighted', zero_division=0)\n",
    "    recall = recall_score(all_labels, all_predictions, average='weighted')\n",
    "    \n",
    "    return val_loss, accuracy, f1, precision, recall"
   ]
  },
  {
   "cell_type": "code",
   "execution_count": 10,
   "metadata": {},
   "outputs": [
    {
     "name": "stdout",
     "output_type": "stream",
     "text": [
      "Epoch 1/10 ------------------------------------------------------------------------------------------------------------------------\n"
     ]
    },
    {
     "name": "stderr",
     "output_type": "stream",
     "text": [
      "Training: 100%|██████████| 80/80 [00:03<00:00, 21.33it/s]\n"
     ]
    },
    {
     "name": "stdout",
     "output_type": "stream",
     "text": [
      "Train Loss: 0.6227, Train Accuracy: 0.6053\n"
     ]
    },
    {
     "name": "stderr",
     "output_type": "stream",
     "text": [
      "Validation: 100%|██████████| 35/35 [00:00<00:00, 100.20it/s]\n"
     ]
    },
    {
     "name": "stdout",
     "output_type": "stream",
     "text": [
      "Validation Loss: 0.6081, Validation Accuracy: 0.5945\n",
      "F1 Score: 0.4888, Precision: 0.3987, Recall: 0.6314\n",
      "Epoch 2/10 ------------------------------------------------------------------------------------------------------------------------\n"
     ]
    },
    {
     "name": "stderr",
     "output_type": "stream",
     "text": [
      "Training: 100%|██████████| 80/80 [00:03<00:00, 23.71it/s]\n"
     ]
    },
    {
     "name": "stdout",
     "output_type": "stream",
     "text": [
      "Train Loss: 0.5976, Train Accuracy: 0.6147\n"
     ]
    },
    {
     "name": "stderr",
     "output_type": "stream",
     "text": [
      "Validation: 100%|██████████| 35/35 [00:00<00:00, 105.48it/s]\n"
     ]
    },
    {
     "name": "stdout",
     "output_type": "stream",
     "text": [
      "Validation Loss: 0.5799, Validation Accuracy: 0.6562\n",
      "F1 Score: 0.6745, Precision: 0.6878, Recall: 0.6969\n",
      "Epoch 3/10 ------------------------------------------------------------------------------------------------------------------------\n"
     ]
    },
    {
     "name": "stderr",
     "output_type": "stream",
     "text": [
      "Training: 100%|██████████| 80/80 [00:03<00:00, 23.68it/s]\n"
     ]
    },
    {
     "name": "stdout",
     "output_type": "stream",
     "text": [
      "Train Loss: 0.5656, Train Accuracy: 0.6706\n"
     ]
    },
    {
     "name": "stderr",
     "output_type": "stream",
     "text": [
      "Validation: 100%|██████████| 35/35 [00:00<00:00, 105.77it/s]\n"
     ]
    },
    {
     "name": "stdout",
     "output_type": "stream",
     "text": [
      "Validation Loss: 0.5529, Validation Accuracy: 0.6731\n",
      "F1 Score: 0.6998, Precision: 0.7072, Recall: 0.7148\n",
      "Epoch 4/10 ------------------------------------------------------------------------------------------------------------------------\n"
     ]
    },
    {
     "name": "stderr",
     "output_type": "stream",
     "text": [
      "Training: 100%|██████████| 80/80 [00:03<00:00, 23.47it/s]\n"
     ]
    },
    {
     "name": "stdout",
     "output_type": "stream",
     "text": [
      "Train Loss: 0.5497, Train Accuracy: 0.6802\n"
     ]
    },
    {
     "name": "stderr",
     "output_type": "stream",
     "text": [
      "Validation: 100%|██████████| 35/35 [00:00<00:00, 104.24it/s]\n"
     ]
    },
    {
     "name": "stdout",
     "output_type": "stream",
     "text": [
      "Validation Loss: 0.5342, Validation Accuracy: 0.6881\n",
      "F1 Score: 0.7143, Precision: 0.7272, Recall: 0.7308\n",
      "Epoch 5/10 ------------------------------------------------------------------------------------------------------------------------\n"
     ]
    },
    {
     "name": "stderr",
     "output_type": "stream",
     "text": [
      "Training: 100%|██████████| 80/80 [00:03<00:00, 23.54it/s]\n"
     ]
    },
    {
     "name": "stdout",
     "output_type": "stream",
     "text": [
      "Train Loss: 0.5433, Train Accuracy: 0.6920\n"
     ]
    },
    {
     "name": "stderr",
     "output_type": "stream",
     "text": [
      "Validation: 100%|██████████| 35/35 [00:00<00:00, 107.04it/s]\n"
     ]
    },
    {
     "name": "stdout",
     "output_type": "stream",
     "text": [
      "Validation Loss: 0.5404, Validation Accuracy: 0.6872\n",
      "F1 Score: 0.6980, Precision: 0.7450, Recall: 0.7299\n",
      "Epoch 6/10 ------------------------------------------------------------------------------------------------------------------------\n"
     ]
    },
    {
     "name": "stderr",
     "output_type": "stream",
     "text": [
      "Training: 100%|██████████| 80/80 [00:03<00:00, 23.30it/s]\n"
     ]
    },
    {
     "name": "stdout",
     "output_type": "stream",
     "text": [
      "Train Loss: 0.5303, Train Accuracy: 0.7037\n"
     ]
    },
    {
     "name": "stderr",
     "output_type": "stream",
     "text": [
      "Validation: 100%|██████████| 35/35 [00:00<00:00, 102.42it/s]\n"
     ]
    },
    {
     "name": "stdout",
     "output_type": "stream",
     "text": [
      "Validation Loss: 0.5264, Validation Accuracy: 0.6986\n",
      "F1 Score: 0.7357, Precision: 0.7364, Recall: 0.7420\n",
      "Epoch 7/10 ------------------------------------------------------------------------------------------------------------------------\n"
     ]
    },
    {
     "name": "stderr",
     "output_type": "stream",
     "text": [
      "Training: 100%|██████████| 80/80 [00:03<00:00, 23.46it/s]\n"
     ]
    },
    {
     "name": "stdout",
     "output_type": "stream",
     "text": [
      "Train Loss: 0.5239, Train Accuracy: 0.7127\n"
     ]
    },
    {
     "name": "stderr",
     "output_type": "stream",
     "text": [
      "Validation: 100%|██████████| 35/35 [00:00<00:00, 101.99it/s]\n"
     ]
    },
    {
     "name": "stdout",
     "output_type": "stream",
     "text": [
      "Validation Loss: 0.5237, Validation Accuracy: 0.7037\n",
      "F1 Score: 0.7463, Precision: 0.7456, Recall: 0.7473\n",
      "Epoch 8/10 ------------------------------------------------------------------------------------------------------------------------\n"
     ]
    },
    {
     "name": "stderr",
     "output_type": "stream",
     "text": [
      "Training: 100%|██████████| 80/80 [00:03<00:00, 23.44it/s]\n"
     ]
    },
    {
     "name": "stdout",
     "output_type": "stream",
     "text": [
      "Train Loss: 0.5181, Train Accuracy: 0.7215\n"
     ]
    },
    {
     "name": "stderr",
     "output_type": "stream",
     "text": [
      "Validation: 100%|██████████| 35/35 [00:00<00:00, 101.45it/s]\n"
     ]
    },
    {
     "name": "stdout",
     "output_type": "stream",
     "text": [
      "Validation Loss: 0.5219, Validation Accuracy: 0.7064\n",
      "F1 Score: 0.7376, Precision: 0.7478, Recall: 0.7502\n",
      "Epoch 9/10 ------------------------------------------------------------------------------------------------------------------------\n"
     ]
    },
    {
     "name": "stderr",
     "output_type": "stream",
     "text": [
      "Training: 100%|██████████| 80/80 [00:03<00:00, 23.45it/s]\n"
     ]
    },
    {
     "name": "stdout",
     "output_type": "stream",
     "text": [
      "Train Loss: 0.5160, Train Accuracy: 0.7239\n"
     ]
    },
    {
     "name": "stderr",
     "output_type": "stream",
     "text": [
      "Validation: 100%|██████████| 35/35 [00:00<00:00, 103.16it/s]\n"
     ]
    },
    {
     "name": "stdout",
     "output_type": "stream",
     "text": [
      "Validation Loss: 0.5124, Validation Accuracy: 0.7142\n",
      "F1 Score: 0.7542, Precision: 0.7541, Recall: 0.7585\n",
      "Epoch 10/10 ------------------------------------------------------------------------------------------------------------------------\n"
     ]
    },
    {
     "name": "stderr",
     "output_type": "stream",
     "text": [
      "Training: 100%|██████████| 80/80 [00:03<00:00, 23.45it/s]\n"
     ]
    },
    {
     "name": "stdout",
     "output_type": "stream",
     "text": [
      "Train Loss: 0.5141, Train Accuracy: 0.7256\n"
     ]
    },
    {
     "name": "stderr",
     "output_type": "stream",
     "text": [
      "Validation: 100%|██████████| 35/35 [00:00<00:00, 102.60it/s]"
     ]
    },
    {
     "name": "stdout",
     "output_type": "stream",
     "text": [
      "Validation Loss: 0.5108, Validation Accuracy: 0.7169\n",
      "F1 Score: 0.7609, Precision: 0.7605, Recall: 0.7614\n",
      "Entrenamiento y validación completados. ------------------------------------------------------------------------------------------------------------------------\n"
     ]
    },
    {
     "name": "stderr",
     "output_type": "stream",
     "text": [
      "\n"
     ]
    }
   ],
   "source": [
    "for epoch in range(num_epochs):\n",
    "    print(f'Epoch {epoch + 1}/{num_epochs}', '------'*20)\n",
    "    train_loss, train_accuracy = train_fn(model, train_loader, optimizer, loss_fn)\n",
    "    print(f'Train Loss: {train_loss:.4f}, Train Accuracy: {train_accuracy:.4f}')\n",
    "    \n",
    "    val_loss, val_accuracy, f1, precision, recall = val_fn(model, test_loader, loss_fn)\n",
    "    print(f'Validation Loss: {val_loss:.4f}, Validation Accuracy: {val_accuracy:.4f}')\n",
    "    print(f'F1 Score: {f1:.4f}, Precision: {precision:.4f}, Recall: {recall:.4f}')\n",
    "\n",
    "print(\"Entrenamiento y validación completados.\", '------'*20)"
   ]
  },
  {
   "cell_type": "code",
   "execution_count": 11,
   "metadata": {},
   "outputs": [],
   "source": [
    "torch.save(model.state_dict(), 'Shallue_model.pth')"
   ]
  },
  {
   "cell_type": "code",
   "execution_count": 12,
   "metadata": {},
   "outputs": [],
   "source": [
    "def predict(model, data_loader):\n",
    "    predicted = []\n",
    "    labels = []\n",
    "\n",
    "    model.eval()\n",
    "\n",
    "    with torch.no_grad():\n",
    "        for data in data_loader:\n",
    "            global_odd, global_even, local_odd, local_even, label = data\n",
    "            # check if any tensor is empty\n",
    "            if global_odd.numel() == 0 or global_even.numel() == 0 or local_odd.numel() == 0 or local_even.numel() == 0:\n",
    "                continue\n",
    "            # check if any tensor has nan\n",
    "            if torch.isnan(global_odd).any() or torch.isnan(global_even).any() or torch.isnan(local_odd).any() or torch.isnan(local_even).any():\n",
    "                continue\n",
    "            \n",
    "            global_odd = global_odd.to(device).unsqueeze(1).float()\n",
    "            global_even = global_even.to(device).unsqueeze(1).float()\n",
    "            local_odd = local_odd.to(device).unsqueeze(1).float()\n",
    "            local_even = local_even.to(device).unsqueeze(1).float()\n",
    "            \n",
    "            output = model((global_odd, global_even, local_odd, local_even))\n",
    "            \n",
    "            if type(loss_fn) == nn.BCELoss:\n",
    "                output = output.squeeze(1)\n",
    "                label = label.float()\n",
    "                \n",
    "            if type(loss_fn) == nn.BCELoss:\n",
    "                predicted.append((output > 0.5).float())\n",
    "            else:\n",
    "                _, predicted_label = torch.max(output.data, 1)\n",
    "                predicted.append(predicted_label.cpu().numpy())\n",
    "                \n",
    "            labels.append(label.cpu().numpy())\n",
    "    predicted = np.concatenate(predicted)\n",
    "    labels = np.concatenate(labels)\n",
    "    return predicted, labels"
   ]
  },
  {
   "cell_type": "code",
   "execution_count": 13,
   "metadata": {},
   "outputs": [],
   "source": [
    "def plot_confusion_matrix(y_true, y_pred, classes):\n",
    "    from sklearn.metrics import confusion_matrix\n",
    "    import seaborn as sns\n",
    "    import matplotlib.pyplot as plt\n",
    "    cm = confusion_matrix(y_true, y_pred)\n",
    "    plt.figure(figsize=(8, 6))\n",
    "    sns.heatmap(cm, annot=True, fmt='d', cmap='Blues', xticklabels=classes, yticklabels=classes)\n",
    "    plt.ylabel('True label')\n",
    "    plt.xlabel('Predicted label')\n",
    "    plt.title('Confusion Matrix')\n",
    "    plt.show()"
   ]
  },
  {
   "cell_type": "code",
   "execution_count": 14,
   "metadata": {},
   "outputs": [
    {
     "data": {
      "image/png": "[encoded data removed]",
      "text/plain": [
       "<Figure size 800x600 with 2 Axes>"
      ]
     },
     "metadata": {},
     "output_type": "display_data"
    },
    {
     "data": {
      "image/png": "[encoded data removed]",
      "text/plain": [
       "<Figure size 800x600 with 2 Axes>"
      ]
     },
     "metadata": {},
     "output_type": "display_data"
    }
   ],
   "source": [
    "# matrices de confusión\n",
    "from sklearn.metrics import confusion_matrix\n",
    "\n",
    "predicted, labels = predict(model, test_loader)\n",
    "plot_confusion_matrix(labels, predicted, classes)\n",
    "\n",
    "predicted, labels = predict(model, train_loader)\n",
    "plot_confusion_matrix(labels, predicted, classes)"
   ]
  },
  {
   "cell_type": "markdown",
   "metadata": {},
   "source": [
    "## Probar el modelo con los datos de CANDIDATOS"
   ]
  },
  {
   "cell_type": "code",
   "execution_count": 17,
   "metadata": {},
   "outputs": [
    {
     "name": "stderr",
     "output_type": "stream",
     "text": [
      "Processing light curves: 100%|██████████| 2046/2046 [00:00<00:00, 119193.11it/s]\n",
      "Creating items: 100%|██████████| 2046/2046 [00:00<00:00, 2046636.29it/s]\n"
     ]
    },
    {
     "name": "stdout",
     "output_type": "stream",
     "text": [
      "Tamaño del conjunto de candidatos: 2046\n"
     ]
    }
   ],
   "source": [
    "global_odd = []\n",
    "global_even = []\n",
    "local_odd = []\n",
    "local_even = []\n",
    "\n",
    "for lc in tqdm(candidates, desc='Processing light curves'):\n",
    "    global_odd.append(lc.pliegue_impar_global._light_curve.flux.value)\n",
    "    global_even.append(lc.pliegue_par_global._light_curve.flux.value)\n",
    "    local_odd.append(lc.pliegue_impar_local._light_curve.flux.value)\n",
    "    local_even.append(lc.pliegue_par_local._light_curve.flux.value)\n",
    "\n",
    "items = []\n",
    "for i in tqdm(range(len(global_odd)), desc='Creating items'):\n",
    "    item = {\n",
    "        'global_odd': global_odd[i],\n",
    "        'global_even': global_even[i],\n",
    "        'local_odd': local_odd[i],\n",
    "        'local_even': local_even[i],\n",
    "        'label': 2       \n",
    "    }\n",
    "    items.append(item)\n",
    "\n",
    "candidates_dataset = torch.utils.data.TensorDataset(torch.tensor([item['global_odd'] for item in items]),\n",
    "                                                    torch.tensor([item['global_even'] for item in items]),\n",
    "                                                    torch.tensor([item['local_odd'] for item in items]),\n",
    "                                                    torch.tensor([item['local_even'] for item in items]),\n",
    "                                                    torch.tensor([item['label'] for item in items]))\n",
    "print(\"Tamaño del conjunto de candidatos:\", len(candidates_dataset))\n",
    "\n",
    "candidates_loader = DataLoader(candidates_dataset, batch_size=batch_size, shuffle=False)"
   ]
  },
  {
   "cell_type": "code",
   "execution_count": 18,
   "metadata": {},
   "outputs": [],
   "source": [
    "predicted_candidates, _ = predict(model, candidates_loader)\n"
   ]
  },
  {
   "cell_type": "code",
   "execution_count": 19,
   "metadata": {},
   "outputs": [
    {
     "name": "stdout",
     "output_type": "stream",
     "text": [
      "Exoplanetas confirmados: 822\n",
      "Falso positivo: 968\n"
     ]
    }
   ],
   "source": [
    "# contar los positivos y negativos\n",
    "n_positive = sum(predicted_candidates)\n",
    "n_negative = len(predicted_candidates) - n_positive\n",
    "print(\"Exoplanetas confirmados:\", n_positive)\n",
    "print(\"Falso positivo:\", n_negative)"
   ]
  }
 ],
 "metadata": {
  "kernelspec": {
   "display_name": ".venv",
   "language": "python",
   "name": "python3"
  },
  "language_info": {
   "codemirror_mode": {
    "name": "ipython",
    "version": 3
   },
   "file_extension": ".py",
   "mimetype": "text/x-python",
   "name": "python",
   "nbconvert_exporter": "python",
   "pygments_lexer": "ipython3",
   "version": "3.7.9"
  }
 },
 "nbformat": 4,
 "nbformat_minor": 2
}
